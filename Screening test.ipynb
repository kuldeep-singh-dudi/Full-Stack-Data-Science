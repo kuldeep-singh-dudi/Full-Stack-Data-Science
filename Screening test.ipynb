{
 "cells": [
  {
   "cell_type": "raw",
   "metadata": {},
   "source": [
    "Create a function in python to read the text file and replace specific content\n",
    "of the file."
   ]
  },
  {
   "cell_type": "code",
   "execution_count": null,
   "metadata": {},
   "outputs": [],
   "source": [
    "import re"
   ]
  },
  {
   "cell_type": "code",
   "execution_count": 4,
   "metadata": {},
   "outputs": [
    {
     "name": "stdout",
     "output_type": "stream",
     "text": [
      "text replaced\n"
     ]
    }
   ],
   "source": [
    "def replacetext(text,replacement):\n",
    "    with open('sampletext.txt','r+')as f:\n",
    "        file=f.read()\n",
    "        file=re.sub(text,replacement,file)\n",
    "        f.seek(0)\n",
    "        f.write(file)\n",
    "        f.truncate()\n",
    "    return \"text replaced\"\n",
    "text = 'placement'\n",
    "replacement='screening'\n",
    "print(replacetext(text,replacement))"
   ]
  },
  {
   "cell_type": "raw",
   "metadata": {},
   "source": [
    "Demonstrate use of abstract class, multiple inheritance and decorator in\n",
    "python using examples."
   ]
  },
  {
   "cell_type": "markdown",
   "metadata": {},
   "source": [
    "# Abstract Class"
   ]
  },
  {
   "cell_type": "code",
   "execution_count": 6,
   "metadata": {},
   "outputs": [
    {
     "name": "stdout",
     "output_type": "stream",
     "text": [
      "This is a screening assignment\n"
     ]
    }
   ],
   "source": [
    "import os\n",
    "\n",
    "class file:    \n",
    "    def __init__(self, filepath):\n",
    "        self.path = filepath\n",
    "    \n",
    "    def file_exists(self):\n",
    "        if os.path.isfile(self.path):\n",
    "            return True\n",
    "        else:\n",
    "            raise Exception('File does not exist! Provide a correct file path')\n",
    "    \n",
    "    def read(self):\n",
    "        if self.file_exists():\n",
    "            rd = open(self.path,\"r\")\n",
    "        return rd.read()\n",
    "    \n",
    "    def write(self):\n",
    "        if self.file_exists():\n",
    "            wr = open(self.path,\"r+\")\n",
    "            writetxt = input()\n",
    "            wr.write(writetxt)\n",
    "            wr.close()\n",
    "    \n",
    "class fileoperations(file):\n",
    "    pass\n",
    "\n",
    "fl = fileoperations('sampletext.txt')\n",
    "content = fl.read()\n",
    "print(content)"
   ]
  },
  {
   "cell_type": "markdown",
   "metadata": {},
   "source": [
    "# Decorator"
   ]
  },
  {
   "cell_type": "code",
   "execution_count": 7,
   "metadata": {},
   "outputs": [
    {
     "name": "stdout",
     "output_type": "stream",
     "text": [
      "100\n"
     ]
    }
   ],
   "source": [
    "def decor1(func):\n",
    "    def inner():\n",
    "        x = func()\n",
    "        return x * x\n",
    "    return inner\n",
    "@decor1\n",
    "def num():\n",
    "    return 10\n",
    "print(num())"
   ]
  },
  {
   "cell_type": "markdown",
   "metadata": {},
   "source": [
    "# Multiple inheritance"
   ]
  },
  {
   "cell_type": "code",
   "execution_count": 10,
   "metadata": {},
   "outputs": [
    {
     "name": "stdout",
     "output_type": "stream",
     "text": [
      "Movie Id : 2\n",
      "Movie Name : Doctor Strange\n"
     ]
    }
   ],
   "source": [
    "class Movie_id:\n",
    "    id = \"1\"\n",
    "    def __init__(self,a):\n",
    "        self.a = a  \n",
    "    def id(self):\n",
    "        print(self.id)\n",
    "class Movie_name:\n",
    "    movie_name = \"Top Gun\"\n",
    "    def movie(self):\n",
    "        print(self.movie_name)\n",
    "class Customer(Movie_id, Movie_name):\n",
    "    def watch_movie(self):\n",
    "        print(\"Movie Id :\", self.id)\n",
    "        print(\"Movie Name :\", self.movie_name)\n",
    "c1 = Customer(4)\n",
    "c1.id = \"2\"\n",
    "c1.movie_name = \"Doctor Strange\"\n",
    "c1.watch_movie()"
   ]
  },
  {
   "cell_type": "code",
   "execution_count": null,
   "metadata": {},
   "outputs": [],
   "source": []
  }
 ],
 "metadata": {
  "kernelspec": {
   "display_name": "Python 3",
   "language": "python",
   "name": "python3"
  },
  "language_info": {
   "codemirror_mode": {
    "name": "ipython",
    "version": 3
   },
   "file_extension": ".py",
   "mimetype": "text/x-python",
   "name": "python",
   "nbconvert_exporter": "python",
   "pygments_lexer": "ipython3",
   "version": "3.8.8"
  }
 },
 "nbformat": 4,
 "nbformat_minor": 4
}
